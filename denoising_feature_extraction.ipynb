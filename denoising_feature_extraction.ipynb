{
 "cells": [
  {
   "cell_type": "code",
   "execution_count": null,
   "metadata": {},
   "outputs": [],
   "source": [
    "pip install librosa matplotlib numpy scipy\n"
   ]
  },
  {
   "cell_type": "markdown",
   "metadata": {},
   "source": [
    "Noise Reduction\n"
   ]
  },
  {
   "cell_type": "code",
   "execution_count": null,
   "metadata": {},
   "outputs": [],
   "source": [
    "import numpy as np\n",
    "import librosa\n",
    "import librosa.display\n",
    "import matplotlib.pyplot as plt\n",
    "\n",
    "# Load the audio file\n",
    "file_path = r\"./0638.mp3\"\n",
    "y, sr = librosa.load(file_path)\n",
    "\n",
    "# Plot original waveform\n",
    "plt.figure(figsize=(14, 6))\n",
    "plt.subplot(2, 1, 1)\n",
    "librosa.display.waveshow(y, sr=sr)\n",
    "plt.title('Original Signal')\n",
    "plt.xlabel('Time (s)')\n",
    "plt.ylabel('Amplitude')\n",
    "\n",
    "# Noise reduction using more aggressive spectral gating\n",
    "def reduce_noise(y, sr, noise_reduction_factor=0.1, n_iter=3):\n",
    "    for _ in range(n_iter):\n",
    "        # Compute the Short-Time Fourier Transform (STFT) of the audio signal\n",
    "        stft = librosa.stft(y)\n",
    "        stft_magnitude, stft_phase = librosa.magphase(stft)\n",
    "\n",
    "        # Compute the mean magnitude spectrum of the noise\n",
    "        noise_magnitude = np.mean(stft_magnitude[:, :int(sr * 0.1)], axis=1)\n",
    "        \n",
    "        # Create a mask that attenuates regions below the noise threshold\n",
    "        mask = stft_magnitude > noise_reduction_factor * noise_magnitude[:, np.newaxis]\n",
    "        \n",
    "        # Apply the mask to the magnitude spectrogram\n",
    "        stft_magnitude_denoised = stft_magnitude * mask\n",
    "        \n",
    "        # Inverse STFT to get the denoised signal\n",
    "        stft_denoised = stft_magnitude_denoised * stft_phase\n",
    "        y = librosa.istft(stft_denoised)\n",
    "    \n",
    "    return y\n",
    "\n",
    "# Apply aggressive noise reduction\n",
    "y_denoised = reduce_noise(y, sr, noise_reduction_factor=10, n_iter=10)\n",
    "\n",
    "# Plot denoised waveform\n",
    "plt.subplot(2, 1, 2)\n",
    "librosa.display.waveshow(y_denoised, sr=sr)\n",
    "plt.title('Denoised Signal')\n",
    "plt.xlabel('Time (s)')\n",
    "plt.ylabel('Amplitude')\n",
    "\n",
    "plt.tight_layout()\n",
    "plt.show()\n"
   ]
  },
  {
   "cell_type": "markdown",
   "metadata": {},
   "source": [
    "MFCC extraction\n"
   ]
  },
  {
   "cell_type": "code",
   "execution_count": null,
   "metadata": {},
   "outputs": [],
   "source": [
    "import librosa\n",
    "import librosa.display\n",
    "import matplotlib.pyplot as plt\n",
    "import numpy as np\n",
    "\n",
    "# Load the audio file\n",
    "file_path = r\"./0638.mp3\"\n",
    "y, sr = librosa.load(file_path)\n",
    "\n",
    "# Extract MFCCs\n",
    "mfccs = librosa.feature.mfcc(y=y, sr=sr, n_mfcc=13)\n",
    "\n",
    "# Plot the MFCCs\n",
    "plt.figure(figsize=(10, 6))\n",
    "librosa.display.specshow(mfccs, sr=sr, x_axis='time')\n",
    "plt.colorbar(format='%+2.0f dB')\n",
    "plt.title('MFCC')\n",
    "plt.xlabel('Time')\n",
    "plt.ylabel('MFCC Coefficients')\n",
    "plt.show()\n"
   ]
  }
 ],
 "metadata": {
  "kernelspec": {
   "display_name": "iris_proc",
   "language": "python",
   "name": "iris_proc"
  },
  "language_info": {
   "codemirror_mode": {
    "name": "ipython",
    "version": 3
   },
   "file_extension": ".py",
   "mimetype": "text/x-python",
   "name": "python",
   "nbconvert_exporter": "python",
   "pygments_lexer": "ipython3",
   "version": "3.11.4"
  }
 },
 "nbformat": 4,
 "nbformat_minor": 2
}
